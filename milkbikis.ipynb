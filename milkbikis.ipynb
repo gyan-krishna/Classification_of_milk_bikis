{
 "cells": [
  {
   "cell_type": "code",
   "execution_count": 2,
   "metadata": {},
   "outputs": [],
   "source": [
    "import os\n",
    "import warnings\n",
    "import matplotlib\n",
    "import matplotlib.pyplot as plt\n",
    "import numpy as np\n",
    "import pandas as pd\n",
    "from skimage.io import imread,imshow\n",
    "from skimage.transform import resize\n",
    "from skimage.color import rgb2grey\n",
    "from skimage import feature\n",
    "import cv2\n"
   ]
  },
  {
   "cell_type": "code",
   "execution_count": 3,
   "metadata": {},
   "outputs": [],
   "source": [
    "warnings.simplefilter(\"ignore\")"
   ]
  },
  {
   "cell_type": "code",
   "execution_count": 4,
   "metadata": {
    "scrolled": false
   },
   "outputs": [],
   "source": [
    "bob = os.listdir(r\"./mug_shots/bob//\")\n",
    "alice = os.listdir(r\"./mug_shots/alice//\")\n",
    "charlie = os.listdir(r\"./mug_shots/charlie//\")\n",
    "\n",
    "limit = 36#max no of images\n",
    "\n",
    "bob_img = [None]*limit\n",
    "alice_img = [None]*limit\n",
    "charlie_img = [None]*limit\n",
    "\n",
    "\n",
    "j = 0\n",
    "i = 0\n",
    "for i in bob:\n",
    "    if(j < limit):\n",
    "        bob_img[j] = imread(r\"./mug_shots/bob//\"+i)\n",
    "        j += 1\n",
    "    else:\n",
    "        break\n",
    "j = 0\n",
    "i = 0\n",
    "for i in charlie:\n",
    "    if(j < limit):\n",
    "        charlie_img[j] = imread(r\"./mug_shots/charlie//\"+i)\n",
    "        j += 1\n",
    "    else:\n",
    "        break\n",
    "\n",
    "j = 0\n",
    "i = 0\n",
    "for i in alice:\n",
    "    if(j < limit):\n",
    "        alice_img[j] = imread(r\"./mug_shots/alice//\"+i)\n",
    "        j += 1\n",
    "    else:\n",
    "        break\n"
   ]
  },
  {
   "cell_type": "markdown",
   "metadata": {},
   "source": [
    "#used to convert raw img to mug shots\n",
    "\n",
    "n=0\n",
    "for i in charlie_img:\n",
    "    cropx = 2000\n",
    "    cropy = 2000\n",
    "    y,x,_ = i.shape\n",
    "    startx = x//2-(cropx//2)\n",
    "    starty = y//2-(cropy//2)    \n",
    "    new_img =  i[starty:starty+cropy,startx:startx+cropx]\n",
    "    matplotlib.image.imsave(str(n)+'.png', new_img)\n",
    "    print(n)\n",
    "    n+=1\n"
   ]
  },
  {
   "cell_type": "code",
   "execution_count": 5,
   "metadata": {},
   "outputs": [],
   "source": [
    "#converting to gray scale\n",
    "\n",
    "bob_grey      = [None]*limit\n",
    "charlie_grey  = [None]*limit\n",
    "alice_grey    = [None]*limit\n",
    "\n",
    "x = 0\n",
    "for i in bob_img:\n",
    "    bob_grey[x] = rgb2grey(i)\n",
    "    x+=1\n",
    "\n",
    "x = 0\n",
    "for i in charlie_img:\n",
    "    charlie_grey[x] = rgb2grey(i)\n",
    "    x+=1\n",
    "    \n",
    "x = 0\n",
    "for i in alice_img:\n",
    "    alice_grey[x] = rgb2grey(i)\n",
    "    x+=1"
   ]
  },
  {
   "cell_type": "code",
   "execution_count": 6,
   "metadata": {},
   "outputs": [],
   "source": [
    "imSize=(25,25)\n",
    "\n",
    "for i in range(limit):\n",
    "    bob_grey[i]     = resize(bob_grey[i],imSize)\n",
    "    charlie_grey[i] = resize(charlie_grey[i],imSize)\n",
    "    alice_grey[i]   = resize(alice_grey[i],imSize)\n",
    "\n"
   ]
  },
  {
   "cell_type": "code",
   "execution_count": 7,
   "metadata": {},
   "outputs": [
    {
     "name": "stdout",
     "output_type": "stream",
     "text": [
      "625\n"
     ]
    }
   ],
   "source": [
    "nCol = bob_grey[0].shape[0]*bob_grey[0].shape[1]\n",
    "print(nCol)\n",
    "\n",
    "#dimensions of bob_grey[i] is 40x40 right now,\n",
    "#need to convert it into array of 1600*1\n",
    "#basically flattening the 40 by 40 matrix into a 1600 by 1 matrix\n",
    "#putting all the rows together in a single row\n",
    "\n",
    "for i in range(limit):\n",
    "    bob_grey[i]     = np.ndarray.flatten(bob_grey[i]).reshape(nCol,1)\n",
    "    charlie_grey[i] = np.ndarray.flatten(charlie_grey[i]).reshape(nCol,1)\n",
    "    alice_grey[i]   = np.ndarray.flatten(alice_grey[i]).reshape(nCol,1)\n",
    "\n",
    "bob_grey     = np.dstack(bob_grey)\n",
    "charlie_grey = np.dstack(charlie_grey)\n",
    "alice_grey   = np.dstack(alice_grey)\n",
    "\n",
    "bob_grey     = np.rollaxis(bob_grey, axis=2, start=0)\n",
    "charlie_grey = np.rollaxis(charlie_grey, axis=2, start=0)\n",
    "alice_grey   = np.rollaxis(alice_grey, axis=2, start=0)\n",
    "\n",
    "bob_grey     = bob_grey.reshape(limit,nCol)\n",
    "charlie_grey = charlie_grey.reshape(limit,nCol)\n",
    "alice_grey   = alice_grey.reshape(limit,nCol)\n",
    "\n",
    "bob_data     = pd.DataFrame(bob_grey)\n",
    "charlie_data = pd.DataFrame(charlie_grey)\n",
    "alice_data   = pd.DataFrame(alice_grey)\n",
    "\n",
    "bob_data[\"label\"]      =\"BOB\"\n",
    "charlie_data[\"label\"]  =\"CHARLIE\"\n",
    "alice_data[\"label\"]    =\"ALICE\"\n",
    "\n",
    "first_pair = pd.concat([bob_data,charlie_data])\n",
    "faces = pd.concat([first_pair,alice_data])\n",
    "\n",
    "from sklearn.utils import shuffle\n",
    "out = shuffle(faces).reset_index()\n",
    "out = out.drop(['index'],axis=1)\n",
    "\n",
    "x = out.values[:,:-1]\n",
    "y = out.values[:,-1]"
   ]
  },
  {
   "cell_type": "code",
   "execution_count": 8,
   "metadata": {},
   "outputs": [],
   "source": [
    "from sklearn.decomposition import PCA                      # principle component analysis, decompose face into its features\n",
    "from sklearn.svm import SVC                                # support vector classifier, the ml models class\n",
    "from sklearn.pipeline import make_pipeline                 # support function for GridSearchCV\n",
    "from sklearn.model_selection import train_test_split       # split training and testing data\n",
    "from sklearn.model_selection import GridSearchCV           # func to find the best parameters\n",
    "from sklearn import metrics                                # accuracy finder"
   ]
  },
  {
   "cell_type": "code",
   "execution_count": 9,
   "metadata": {},
   "outputs": [],
   "source": [
    "#principle component analysis\n",
    "#decomposes the face into its individual features.\n",
    "# n_components = number of components the face will be split into\n",
    "# whiten = ??\n",
    "# random_state = 0\n",
    "pca = PCA(n_components=15, whiten=False, random_state=0)\n",
    "\n",
    "#support vector classifier.\n",
    "#draws a straigt line b/w two classes, i.e. classifies the classes into two parts for classification\n",
    "svc = SVC(kernel='rbf', class_weight='balanced')\n",
    "\n",
    "model = make_pipeline(pca, svc)"
   ]
  },
  {
   "cell_type": "code",
   "execution_count": 10,
   "metadata": {},
   "outputs": [],
   "source": [
    "x_train,x_test,y_train,y_test = train_test_split(x,y,random_state=0)#splitting training and testing data."
   ]
  },
  {
   "cell_type": "code",
   "execution_count": 11,
   "metadata": {},
   "outputs": [
    {
     "name": "stdout",
     "output_type": "stream",
     "text": [
      "Wall time: 1.55 s\n",
      "{'svc__C': 1, 'svc__gamma': 0.06}\n"
     ]
    }
   ],
   "source": [
    "params = {'svc__C': [x for x in range(1,5)],'svc__gamma': [0.001, 0.005, 0.006,0.01,0.05,0.06,0.004,0.04]}\n",
    "\n",
    "#\n",
    "grid = GridSearchCV(model, params)\n",
    "%time grid.fit(x_train, y_train)\n",
    "print(grid.best_params_)"
   ]
  },
  {
   "cell_type": "code",
   "execution_count": 12,
   "metadata": {},
   "outputs": [],
   "source": [
    "model = grid.best_estimator_\n",
    "yfit = model.predict(x_test)"
   ]
  },
  {
   "cell_type": "code",
   "execution_count": 13,
   "metadata": {},
   "outputs": [
    {
     "data": {
      "image/png": "[encoded data removed]",
      "text/plain": [
       "<Figure size 720x720 with 16 Axes>"
      ]
     },
     "metadata": {
      "needs_background": "light"
     },
     "output_type": "display_data"
    }
   ],
   "source": [
    "fig, ax = plt.subplots(4,4,sharex=True,sharey=True,figsize = (10,10))\n",
    "for i, axi in enumerate(ax.flat):\n",
    "    axi.imshow(x_test[i].reshape(imSize).astype(np.float64),cmap = \"gray\",interpolation = \"nearest\")\n",
    "    axi.set_title('Label : {}'.format(yfit[i]),)"
   ]
  },
  {
   "cell_type": "code",
   "execution_count": 14,
   "metadata": {},
   "outputs": [
    {
     "name": "stdout",
     "output_type": "stream",
     "text": [
      "0.8148148148148148\n"
     ]
    }
   ],
   "source": [
    "print(metrics.accuracy_score(y_test,yfit))"
   ]
  },
  {
   "cell_type": "code",
   "execution_count": null,
   "metadata": {},
   "outputs": [],
   "source": []
  }
 ],
 "metadata": {
  "kernelspec": {
   "display_name": "Python 3",
   "language": "python",
   "name": "python3"
  },
  "language_info": {
   "codemirror_mode": {
    "name": "ipython",
    "version": 3
   },
   "file_extension": ".py",
   "mimetype": "text/x-python",
   "name": "python",
   "nbconvert_exporter": "python",
   "pygments_lexer": "ipython3",
   "version": "3.7.6"
  }
 },
 "nbformat": 4,
 "nbformat_minor": 4
}
